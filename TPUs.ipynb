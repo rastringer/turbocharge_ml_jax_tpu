{
 "cells": [
  {
   "cell_type": "markdown",
   "metadata": {
    "id": "peiYVHKNiP4F"
   },
   "source": [
    "# TPUs\n",
    "\n",
    "<a target=\"_blank\" href=\"https://colab.research.google.com/github/rastringer/jax_notebooks/blob/master/TPUs.ipynb\">\n",
    "  <img src=\"https://colab.research.google.com/assets/colab-badge.svg\" alt=\"Open In Colab\"/>\n",
    "</a>\n",
    "\n",
    "### Supercomputer for ML\n",
    "\n",
    "Google designed Cloud TPUs as a matrix processor focused making training and inference of neural networks faster, and more power efficient. The TPU is built for massive matrix processing, and its systolic array architecture assigns thousands of interconnected multiply-accumulators to the task. Cloud TPU v3 contains two systolic arrays of 128 x 128 ALUs, on a single processor. For workloads bound by matmul, TPU can generate significant efficiencies.\n",
    "\n"
   ]
  },
  {
   "cell_type": "markdown",
   "metadata": {
    "id": "iXYnQC1Jl26t"
   },
   "source": [
    "### Getting started\n",
    "\n",
    "Prerequisite: a Google Cloud project.\n",
    "\n",
    "There are several ways to run the commands below.\n",
    "\n",
    "*Vertex AI: If you're running notebooks from within Vertex Workbench, simply open a terminal within the notebook instance and run the commands.\n",
    "* Local: [Download](https://cloud.google.com/sdk/docs/install) the gcloud SDK, or open a shell from within Cloud console.\n",
    "* Compute Engine VM: run the commands to set up a TPU VM.\n",
    "\n"
   ]
  },
  {
   "cell_type": "markdown",
   "metadata": {
    "id": "69v-sXkCmKwX"
   },
   "source": [
    "### Setting up the VM\n",
    "First, run the following command to enable the TPU API, and set your user and project configuration:\n",
    "```\n",
    "gcloud services enable tpu.googleapis.com\n",
    "gcloud config set account <your-email-account>\n",
    "gcloud config set project <your-project>\n",
    "```\n",
    "\n",
    "### Create the TPU VM\n",
    "\n",
    "For more information, an extensive guide can be found [here](https://cloud.google.com/tpu/docs/run-calculation-pytorch#create-vm).\n",
    "\n",
    "```\n",
    "gcloud compute tpus tpu-vm create tpu-name  \\\n",
    "  --zone=zone \\\n",
    "  --accelerator-type=${ACCELERATOR_TYPE}  \\\n",
    "  --version=tpu-vm-v4-base\n",
    "```\n",
    "\n",
    "Note: For v2 and v3 configurations use the tpu-vm-base TPU software `version`. For v4 configurations use tpu-vm-v4-base. The correct version of libtpu.so is automatically installed when JAX is installed on the machine.\n",
    "\n",
    "Since there is no TPU specific JAX software version, we have to manually install JAX on the TPU VM.\n",
    "\n",
    "To see a list of versions (such as TensorFlow, other PyTorch versions), replace with zone with the zone of yoru project (eg us-central1-b) and run:\n",
    "\n",
    "```\n",
    "gcloud compute tpus tpu-vm versions list --zone <ZONE>\n",
    "```\n",
    "\n",
    "For all TPU types, the version is followed by the number of TensorCores (e.g., 8, 32, 128). For example, --accelerator-type=v2-8 specifies a TPU v2 with 8 TensorCores and v3-1024 specifies a v3 TPU with 1024 TensorCores (a slice of a v3 Pod).\n",
    "\n",
    "### Connecting to a TPU VM\n",
    "\n",
    "From one of the options above (Workbench, local terminal, Compute Engine VM etc), adjust the VM name and zone placeholders:\n",
    "\n",
    "```\n",
    "gcloud compute tpus tpu-vm ssh <your-tpu-vm-name> --zone <your-zone>\n",
    "```\n",
    "\n",
    "### Connecting to a TPU VM via local notebook\n",
    "\n",
    "One of the most popular ways to connect is via a Jupyter Notebook either on another VM or a local machine. This means that rather than develop in notebooks and move .py files to the TPU VM to run them, all experimentation on the notebook can benefit from the TPU.\n",
    "\n",
    "#### Steps:\n",
    "\n",
    "Set up the TPU VM as above, and connect from your local machine (or another VM) with a slightly different command (change the parameters within `<...>`):\n",
    "\n",
    "```\n",
    "gcloud compute tpus tpu-vm ssh <tpu_vm_name> --zone <zone>  -- -L 8888:localhost:8888\n",
    "```\n",
    "\n",
    "Once connected for the first time, install the JAX library:\n",
    "\n",
    "```\n",
    "pip install --upgrade 'jax[tpu]>0.3.0' \\\n",
    "  -f https://storage.googleapis.com/jax-releases/libtpu_releases.html\"\n",
    "```\n",
    "\n",
    "Let's check JAX is working before going further. From the terminal connected to the VM, try the following lines of code (number of devices will vary depending on configuration):\n",
    "\n",
    "```\n",
    "python3\n",
    ">>> import jax\n",
    ">>>  num_devices = jax.device_count()\n",
    ">>> device_type = jax.devices()[0].device_kind\n",
    ">>> print(f\"Using {num_devices} JAX devices of type {device_type}.\")\n",
    ">>> Using 8 JAX devices of type Cloud TPU.\n",
    "```\n",
    "\n",
    "It should then be possible to launch a notebook running on the TPU via the usual command:\n",
    "\n",
    "```\n",
    "jupyter-lab\n",
    "```\n",
    "\n",
    "or\n",
    "\n",
    "```\n",
    "jupyter notebook\n",
    "```\n",
    "\n",
    "depending on whether you have JupyterLab or classic Jupyter Notebook installed. Now accessing `localhost:8888` in a browser (use the link in the terminal that results from the commands above) should take you to the notebook environment.\n",
    "\n",
    "\n"
   ]
  },
  {
   "cell_type": "markdown",
   "metadata": {
    "id": "IWK0G_5Rp2r6"
   },
   "source": [
    "### Connecting to a TPU VM\n",
    "\n",
    "From one of the options above (Workbench, local terminal, Compute Engine VM etc), adjust the VM name and zone placeholders:\n",
    "\n",
    "```\n",
    "gcloud compute tpus tpu-vm ssh <your-tpu-vm-name> --zone <your-zone>\n",
    "```\n",
    "\n",
    "#### Connecting to a TPU VM via local notebook\n",
    "\n",
    "One of the most popular ways to connect is via a Jupyter Notebook either on another VM or a local machine. This means that rather than develop in notebooks and move .py files to the TPU VM to run them, all experimentation on the notebook can benefit from the TPU.\n",
    "\n",
    "#### Steps:\n",
    "\n",
    "Set up the TPU VM as above, and connect from your local machine (or another VM) with a slightly different command (change the parameters within `<...>`):\n",
    "\n",
    "```\n",
    "gcloud compute tpus tpu-vm ssh <tpu_vm_name> --zone <zone>  -- -L 8888:localhost:8888\n",
    "```\n",
    "\n",
    "It should then be possible to launch a notebook running on the TPU via the usual command:\n",
    "\n",
    "```\n",
    "jupyter-lab\n",
    "```\n",
    "\n",
    "or\n",
    "\n",
    "```\n",
    "jupyter notebook\n",
    "```\n",
    "\n",
    "depending on whether you have JupyterLab or classic Jupyter Notebook installed. Now accessing `localhost:8888` in a browser (use the link in the terminal that results from the commands above) should take you to the notebook environment.\n"
   ]
  },
  {
   "cell_type": "code",
   "execution_count": null,
   "metadata": {
    "id": "FQCb5ZrelZFg"
   },
   "outputs": [],
   "source": []
  }
 ],
 "metadata": {
  "colab": {
   "authorship_tag": "ABX9TyOHhxpmnH8hEFfyQ+R71iLo",
   "provenance": [],
   "toc_visible": true
  },
  "kernelspec": {
   "display_name": "Python (Local)",
   "language": "python",
   "name": "local-base"
  },
  "language_info": {
   "codemirror_mode": {
    "name": "ipython",
    "version": 3
   },
   "file_extension": ".py",
   "mimetype": "text/x-python",
   "name": "python",
   "nbconvert_exporter": "python",
   "pygments_lexer": "ipython3",
   "version": "3.7.12"
  }
 },
 "nbformat": 4,
 "nbformat_minor": 4
}
