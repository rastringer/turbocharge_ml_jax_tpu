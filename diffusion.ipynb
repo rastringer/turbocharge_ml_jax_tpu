{
 "cells": [
  {
   "cell_type": "markdown",
   "id": "fb439a28-a0f2-42af-a104-9b086e37ff8a",
   "metadata": {},
   "source": [
    "### Diffusion for the curious"
   ]
  },
  {
   "cell_type": "markdown",
   "id": "ab32994e-4ce6-4f74-829e-2f06fde42ab9",
   "metadata": {},
   "source": [
    "TODO: Add speaker notes\n",
    "\n",
    "#### How do we learn the probabilities of what an image represents?"
   ]
  },
  {
   "cell_type": "markdown",
   "id": "41db1621-3aa5-403f-8b9a-0d97aad50d8c",
   "metadata": {},
   "source": [
    "<img src=\"images/cat_probs.png\"  width=\"800\" height=\"600\">"
   ]
  },
  {
   "cell_type": "markdown",
   "id": "69fb2f5f-d3d7-4efd-ba55-60f5ae8df75b",
   "metadata": {},
   "source": [
    "#### Adding and detecting noise"
   ]
  },
  {
   "cell_type": "markdown",
   "id": "0012ca67-62db-4aae-84ce-d94a197a3db0",
   "metadata": {},
   "source": [
    "<img src=\"images/adding_noise.png\"  width=\"600\" height=\"400\">"
   ]
  },
  {
   "cell_type": "markdown",
   "id": "d484ae93-e28c-414b-94c2-387d5e7c2d8c",
   "metadata": {},
   "source": [
    "#### Enter the Unet"
   ]
  },
  {
   "cell_type": "markdown",
   "id": "c1d7f36a-dad2-4f36-9d16-a64c32479e75",
   "metadata": {},
   "source": [
    "<img src=\"images/cat_unet_pred.png\"  width=\"700\" height=\"500\">"
   ]
  },
  {
   "cell_type": "markdown",
   "id": "ba3e8da0-9bf3-42e0-9c50-8aa205a28d69",
   "metadata": {},
   "source": [
    "#### Embeddings"
   ]
  },
  {
   "cell_type": "markdown",
   "id": "65e0b7ba-f1a7-4b48-84eb-a01c1d677e6a",
   "metadata": {},
   "source": [
    "<img src=\"images/clip_embeddings.png\"  width=\"700\" height=\"500\">"
   ]
  },
  {
   "cell_type": "markdown",
   "id": "4f4348e6-eba0-41ee-a7d8-b5c6314340fd",
   "metadata": {},
   "source": [
    "#### Latents"
   ]
  },
  {
   "cell_type": "markdown",
   "id": "b853e79a-ec20-428f-a549-dcfbc9a3ea83",
   "metadata": {},
   "source": [
    "<img src=\"images/latents.png\"  width=\"700\" height=\"500\">"
   ]
  },
  {
   "cell_type": "markdown",
   "id": "f736a809-14fa-4217-88aa-96a4157f3e91",
   "metadata": {},
   "source": [
    "#### Multi-modal"
   ]
  },
  {
   "cell_type": "markdown",
   "id": "c7396d56-8f6d-4814-92f9-574b4d63f404",
   "metadata": {},
   "source": [
    "<img src=\"images/encoders.png\"  width=\"700\" height=\"500\">"
   ]
  },
  {
   "cell_type": "markdown",
   "id": "df53cac3-051f-40ee-a6bb-b19e21e55377",
   "metadata": {},
   "source": [
    "#### Altogether"
   ]
  },
  {
   "cell_type": "markdown",
   "id": "81f684ce-c431-408a-8aa3-67f20c928413",
   "metadata": {},
   "source": [
    "<img src=\"images/noise_unet_image.png\"  width=\"700\" height=\"500\">"
   ]
  }
 ],
 "metadata": {
  "kernelspec": {
   "display_name": "Python (Local)",
   "language": "python",
   "name": "local-base"
  },
  "language_info": {
   "codemirror_mode": {
    "name": "ipython",
    "version": 3
   },
   "file_extension": ".py",
   "mimetype": "text/x-python",
   "name": "python",
   "nbconvert_exporter": "python",
   "pygments_lexer": "ipython3",
   "version": "3.7.12"
  }
 },
 "nbformat": 4,
 "nbformat_minor": 5
}
